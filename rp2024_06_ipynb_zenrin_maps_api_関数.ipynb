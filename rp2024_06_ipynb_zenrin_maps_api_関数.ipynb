{
  "nbformat": 4,
  "nbformat_minor": 0,
  "metadata": {
    "colab": {
      "private_outputs": true,
      "provenance": []
    },
    "kernelspec": {
      "name": "python3",
      "display_name": "Python 3"
    },
    "language_info": {
      "name": "python"
    }
  },
  "cells": [
    {
      "cell_type": "code",
      "source": [
        "client_id = 'o09u9jcft4mpca3e0n0hofaq0'\n",
        "client_secret ='1qficodlgj1g2d7p1ltsn3sbmj39t74n3hokfk98re7oqn1nm1do'"
      ],
      "metadata": {
        "id": "Vpu0c1oZ9EJh"
      },
      "execution_count": null,
      "outputs": []
    },
    {
      "cell_type": "code",
      "source": [
        "import requests\n",
        "import base64\n",
        "def get_access_token():\n",
        "    params = {\n",
        "    'grant_type': 'client_credentials'\n",
        "    }\n",
        "    basic = base64.b64encode(f\"{client_id}:{client_secret}\".encode()).decode()\n",
        "    headers = {\n",
        "    'Content-Type': 'application/x-www-form-urlencoded',\n",
        "    'Authorization': f'Basic {basic}'\n",
        "    }\n",
        "    response = requests.post('https://auth.zmaps-api.com/oauth2/token',\n",
        "    data=params, headers=headers)\n",
        "    return response.json()\n",
        "token = get_access_token()[\"access_token\"]\n",
        "token"
      ],
      "metadata": {
        "id": "6SPYHstP6joG"
      },
      "execution_count": null,
      "outputs": []
    },
    {
      "cell_type": "code",
      "source": [
        "def fetch_ac_premium_results(word, token):\n",
        "    params = {\n",
        "    'word': word,\n",
        "    'use_multi_addr': 'true',\n",
        "    'use_kana': 'true',\n",
        "    'use_pastmap': 'true',\n",
        "    'use_bluemap': 'true',\n",
        "    'datum': 'JGD'\n",
        "    }\n",
        "    api_key = 'w9d8hx2Njt3ndWK1B5cXL2JBNfSfpbwL4qjcKY4m'\n",
        "    headers = {\n",
        "    'x-api-key': api_key,\n",
        "    'Authorization': f'Bearer {token}'\n",
        "    }\n",
        "\n",
        "    response = requests.get('https://web.zmaps-api.com/data-coding/ac_premium', params=params, headers=headers)\n",
        "\n",
        "    return response.json()"
      ],
      "metadata": {
        "id": "W2YzdUob6v5h"
      },
      "execution_count": null,
      "outputs": []
    },
    {
      "cell_type": "code",
      "source": [
        "def add_column(df,new_column):\n",
        "    token_result = get_access_token()\n",
        "    #データを80件ずつ処理する\n",
        "    batch_size = 80\n",
        "    total_rows = len(df)\n",
        "    all_items = []\n",
        "\n",
        "    # 新しい列を作成（初期値はNaN）\n",
        "    df[new_column] = pd.NA\n",
        "\n",
        "    #80個ずつdf[\"full_adress\"]から値を取り出して配列に格納\n",
        "    for i in range(0, total_rows, batch_size):\n",
        "        batch = df.iloc[i:i + batch_size][\"full_address\"].tolist()\n",
        "        input_address = \", \".join(batch)\n",
        "\n",
        "        ac_premium_result = fetch_ac_premium_results(input_address,token_result['access_token'])\n",
        "        items = ac_premium_result['result']['item']\n",
        "        addresses = [item[new_column] for item in items]\n",
        "        all_items.extend(addresses)\n",
        "        print(f\"バッチ {i//batch_size}: {len(batch)}件処理\")\n",
        "\n",
        "    # 取得したデータを順番に格納\n",
        "        for idx, code in enumerate(all_items):\n",
        "            if idx < len(df):\n",
        "                df.iloc[idx, df.columns.get_loc(new_column)] = code\n",
        "    return df\n",
        "\n",
        "#使用例\n",
        "#引数にデータフレームと新しく追加したいカラムを指定\n",
        "#https://developers.zmaps-api.com/v20/reference/webAPI/ac_premium.html を参照\n",
        "new_df = add_column(df_train.head(522), 'address_code')\n",
        "print(new_df.head(10))"
      ],
      "metadata": {
        "id": "dc_kQ0OsMWha"
      },
      "execution_count": null,
      "outputs": []
    }
  ]
}